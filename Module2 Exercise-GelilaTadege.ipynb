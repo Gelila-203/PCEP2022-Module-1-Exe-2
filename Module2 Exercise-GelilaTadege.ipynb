{
 "cells": [
  {
   "cell_type": "markdown",
   "metadata": {},
   "source": [
    "## Exercises\n",
    "### Write the pseudocode for these problems. \n",
    "\n",
    "#### Define the problem by constructing an IPO diagram showing input, output, and processing steps\n",
    "Ask yourself\n",
    "- What control structures (sequence, selection and repetition) are required?\n",
    "- What variables are required?\n",
    "\n",
    "Show a check of your solution with **test data** for at least **two valid test cases**\n",
    "If you use the numbers provided in the example then the correct pseudocode will calculate the same result.\n",
    "    "
   ]
  },
  {
   "cell_type": "markdown",
   "metadata": {},
   "source": [
    "#### 1. Find the average score\n",
    "A program is needed to prompt the user operator for exam scores, calculate the average score and display the result to the screen. The average score is calculated as the sum of the scores divided by the number of scores."
   ]
  },
  {
   "cell_type": "markdown",
   "metadata": {},
   "source": [
    "BEGIN\n",
    "    Prompt user to enter how many score do he/she want to enter\n",
    "    Read the number of score number of score\n",
    "    Set Tota to 0\n",
    "    Set Counter to 0\n",
    "    Loop count< number Of Score\n",
    "        Prompt the user to enter the score\n",
    "        Get the score\n",
    "        Add score to Total\n",
    "        Add 1 to Counter\n",
    "    ENDloop\n",
    "    \n",
    "    Average=Total/number Of Score\n",
    "    print Average\n",
    "\n",
    "END\n",
    "\n",
    "Test cases\n",
    "entered number of score 2\n",
    "total=0\n",
    "counter=0\n",
    "1<=2 --true\n",
    "10\n",
    "total=10\n",
    "counter=1\n",
    "1<=2 true\n",
    "2\n",
    "total=12\n",
    "conter 2\n",
    "2<2 --false ends the program\n"
   ]
  },
  {
   "cell_type": "markdown",
   "metadata": {},
   "source": [
    "#### 2. How much water runs off a roof in a rain storm?\n",
    "To calculate the runoff from any given rainfall: Take the dimensions of the footprint of the roof and convert them to inches. (So, a 50' x 20' roof is 600\" x 240\"). Multiply the roof dimensions by the number of inches of rainfall. As an example, 600\" x 240\" x 1\" = 144,000 cubic inches of water for an inch of rainfall. Divide that result by 231 to get the number of gallons (because 1 gallon = 231 cubic inches). (144,000/231 = 623.38)."
   ]
  },
  {
   "cell_type": "markdown",
   "metadata": {},
   "source": [
    "  BEGIN\n",
    "      Enter the roof dimension in inches\n",
    "      Get length\n",
    "      Get width\n",
    "      Enter the number of rainfall in inches\n",
    "      Calculate cubic inches of water for an inch of rainfall\n",
    "          runoff= length*width*inches of rainfall(in^3)\n",
    "      Convert to gallons\n",
    "          runoff/231 gallons\n",
    "      Print runoff in gallons\n",
    "  End\n",
    "  "
   ]
  },
  {
   "cell_type": "markdown",
   "metadata": {},
   "source": [
    "#### 3. Process customer record\n",
    "A program is required to read a customer’s name, a purchase amount and a tax code. The tax code has been validated and will be one of the following: 0 tax exempt (0%) 1 state sales tax only (3%) 2 federal and state sales tax (5%) 3 special sales tax (7%) The program must then compute the sales tax and the total amount due,and print the customer’s name, purchase amount, sales tax and total amount due."
   ]
  },
  {
   "cell_type": "markdown",
   "metadata": {},
   "source": [
    "BEGIN\n",
    "    Prompt user to enter customer name\n",
    "    Get customer  name\n",
    "    prompt the purchase amount\n",
    "    Get the purchase amount\n",
    "    Promot the user to enter the tax code\n",
    "    Get the tax code\n",
    "    IF taxCode is 0\n",
    "        set the exempt to 0%\n",
    "        salesTax=0\n",
    "    ELSE IF taxCode is 1\n",
    "        set the state sales tax to 3%\n",
    "        set ferdal tax 0%\n",
    "        salesTax= purchaseAmount * 0.03\n",
    "    ELSE IF taxCode is 2\n",
    "        set the state sales tax andfedral sales tax to   5%\n",
    "        salesTax= purchaseAmount * 0.05\n",
    "    ELSE IF taxCode 3\n",
    "        set special sales tax 7%\n",
    "        salesTax= purchaseAmount * 0.07\n",
    "    ENDIF\n",
    "    Calculate total amount due\n",
    "        totalAmountDue= purchaseAmount +salesTax\n",
    "    Print the customer name\n",
    "    Print the purchase amount\n",
    "    Print the sales tax\n",
    "    Print the total amount due\n",
    "    \n",
    "END\n",
    "\n",
    "\n",
    " Test Case\n",
    "    \n",
    "    Maria Moses\n",
    "    $10\n",
    "    tax code =1\n",
    "    salesTax=$10*0.03=$3\n",
    "    totalAmountDue=10+3=$13\n",
    "    \n",
    "  print on console\n",
    "    \n",
    "     Maria Moses\n",
    "     $10\n",
    "     $3\n",
    "     $13\n",
    "     \n",
    "     "
   ]
  },
  {
   "cell_type": "markdown",
   "metadata": {},
   "source": [
    "#### 4. Calculate employee's pay \n",
    "A program is required by a company to read an employee’s number, pay rate and the number of hours worked in a week. The program is then to validate the pay rate field and the hours worked field and, if valid, compute the employee’s weekly pay and then print it and the input data.\n",
    "\n",
    "Validation: According to the company’s rules, the maximum hours an employee can work per week is 60 hours, and the maximum hourly rate is $25.00 per hour. If the hours worked field or the hourly rate field is out of range, the input data and an appropriate message are to be printed and the employee’s weekly pay is not to be calculated.\n",
    "\n",
    "Weekly pay calculation: Weekly pay is calculated as hours worked times pay rate. If more than 35 hours are worked, payment for the overtime hours worked is calculated at time-and-a-half."
   ]
  },
  {
   "cell_type": "markdown",
   "metadata": {},
   "source": [
    "BEGIN\n",
    "    Prompt the user to enter the number of employee\n",
    "    Get the number of employee\n",
    "    Prompt the user to enter the hourly pay rate\n",
    "    Get the hourly pay rate\n",
    "    Prompt the user to enter hour worked in a week\n",
    "    Get the hour worked in a week\n",
    "    Set the employee number to 0\n",
    "    Loop counter <=number of employee\n",
    "        IF hour worked in a week >=60 and hourly pay rate >=25\n",
    "            Print The entered data is invalid\n",
    "            Print Emplyee's weekly pay can not be calculated\n",
    "        ELSE IF worked hour in a week  is  35 hour\n",
    "            total gross pay  = hourly pay rate *35\n",
    "        ELSE IF worked hour in a week  is greater than 35 hour\n",
    "            total gross pay  = (hourly pay rate *35) + (1.5 * hourly pay rate * (hour worked in weeek -35))\n",
    "        ENDIF\n",
    "\n",
    "        Print employee number\n",
    "        Print hour worked in a week\n",
    "        Print the hourly pay rate\n",
    "        print the total gross pay\n",
    "        ADD 1 to the employee number\n",
    "        \n",
    "    ENDLOOP\n",
    "END"
   ]
  }
 ],
 "metadata": {
  "kernelspec": {
   "display_name": "Python 3 (ipykernel)",
   "language": "python",
   "name": "python3"
  },
  "language_info": {
   "codemirror_mode": {
    "name": "ipython",
    "version": 3
   },
   "file_extension": ".py",
   "mimetype": "text/x-python",
   "name": "python",
   "nbconvert_exporter": "python",
   "pygments_lexer": "ipython3",
   "version": "3.9.12"
  }
 },
 "nbformat": 4,
 "nbformat_minor": 2
}
